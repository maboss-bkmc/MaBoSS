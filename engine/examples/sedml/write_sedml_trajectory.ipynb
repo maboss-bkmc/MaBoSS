{
 "cells": [
  {
   "cell_type": "code",
   "execution_count": 1,
   "id": "03e918dd-6b72-4e2f-83fc-31f5a282d536",
   "metadata": {
    "execution": {
     "iopub.execute_input": "2025-04-11T02:10:38.237386Z",
     "iopub.status.busy": "2025-04-11T02:10:38.237270Z",
     "iopub.status.idle": "2025-04-11T02:10:38.283510Z",
     "shell.execute_reply": "2025-04-11T02:10:38.282992Z",
     "shell.execute_reply.started": "2025-04-11T02:10:38.237374Z"
    }
   },
   "outputs": [],
   "source": [
    "import libsedml"
   ]
  },
  {
   "cell_type": "code",
   "execution_count": 2,
   "id": "79a99e94-35b9-41cb-9068-e0a033aef28b",
   "metadata": {
    "execution": {
     "iopub.execute_input": "2025-04-11T02:10:38.284021Z",
     "iopub.status.busy": "2025-04-11T02:10:38.283912Z",
     "iopub.status.idle": "2025-04-11T02:10:38.288264Z",
     "shell.execute_reply": "2025-04-11T02:10:38.288049Z",
     "shell.execute_reply.started": "2025-04-11T02:10:38.284010Z"
    }
   },
   "outputs": [
    {
     "data": {
      "text/plain": [
       "0"
      ]
     },
     "execution_count": 2,
     "metadata": {},
     "output_type": "execute_result"
    }
   ],
   "source": [
    "doc = libsedml.SedDocument()\n",
    "doc.setLevel(1)\n",
    "doc.setVersion(5)"
   ]
  },
  {
   "cell_type": "code",
   "execution_count": 3,
   "id": "74f39bbe-aa0a-43c9-a86a-6a1da89911b9",
   "metadata": {
    "execution": {
     "iopub.execute_input": "2025-04-11T02:10:38.288665Z",
     "iopub.status.busy": "2025-04-11T02:10:38.288558Z",
     "iopub.status.idle": "2025-04-11T02:10:38.290909Z",
     "shell.execute_reply": "2025-04-11T02:10:38.290713Z",
     "shell.execute_reply.started": "2025-04-11T02:10:38.288655Z"
    }
   },
   "outputs": [
    {
     "data": {
      "text/plain": [
       "0"
      ]
     },
     "execution_count": 3,
     "metadata": {},
     "output_type": "execute_result"
    }
   ],
   "source": [
    "model_wt = doc.createModel()\n",
    "model_wt.setId(\"model_wt\")\n",
    "model_wt.setSource(\"cell_fate.sbml\")\n",
    "model_wt.setLanguage(\"urn:sedml:language:sbml\")"
   ]
  },
  {
   "cell_type": "code",
   "execution_count": 4,
   "id": "f6499111-7d2f-4f57-8ddd-dce42e3a6b0d",
   "metadata": {
    "execution": {
     "iopub.execute_input": "2025-04-11T02:10:38.291214Z",
     "iopub.status.busy": "2025-04-11T02:10:38.291125Z",
     "iopub.status.idle": "2025-04-11T02:10:38.293418Z",
     "shell.execute_reply": "2025-04-11T02:10:38.293199Z",
     "shell.execute_reply.started": "2025-04-11T02:10:38.291205Z"
    }
   },
   "outputs": [
    {
     "data": {
      "text/plain": [
       "0"
      ]
     },
     "execution_count": 4,
     "metadata": {},
     "output_type": "execute_result"
    }
   ],
   "source": [
    "model_tnf = doc.createModel()\n",
    "model_tnf.setId(\"model_tnf\")\n",
    "model_tnf.setSource(\"cell_fate.sbml\")\n",
    "model_tnf.setLanguage(\"urn:sedml:language:sbml\")"
   ]
  },
  {
   "cell_type": "code",
   "execution_count": 5,
   "id": "295846bd-372a-4161-963b-c6b9ae908b2c",
   "metadata": {
    "execution": {
     "iopub.execute_input": "2025-04-11T02:10:38.293811Z",
     "iopub.status.busy": "2025-04-11T02:10:38.293723Z",
     "iopub.status.idle": "2025-04-11T02:10:38.296597Z",
     "shell.execute_reply": "2025-04-11T02:10:38.296159Z",
     "shell.execute_reply.started": "2025-04-11T02:10:38.293802Z"
    }
   },
   "outputs": [
    {
     "data": {
      "text/plain": [
       "0"
      ]
     },
     "execution_count": 5,
     "metadata": {},
     "output_type": "execute_result"
    }
   ],
   "source": [
    "# Turn TNF initial state to 1\n",
    "change = model_tnf.createChangeAttribute()\n",
    "change.setTarget(\"/sbml:sbml/sbml:model/qual:listOfQualitativeSpecies/qual:qualitativeSpecies[@qual:id='TNF']/@qual:initialLevel\")\n",
    "change.setNewValue(\"1\")"
   ]
  },
  {
   "cell_type": "code",
   "execution_count": 6,
   "id": "ee37315b-44ca-4844-ad1b-f3947bfe7228",
   "metadata": {
    "execution": {
     "iopub.execute_input": "2025-04-11T02:10:38.298317Z",
     "iopub.status.busy": "2025-04-11T02:10:38.298093Z",
     "iopub.status.idle": "2025-04-11T02:10:38.300768Z",
     "shell.execute_reply": "2025-04-11T02:10:38.300452Z",
     "shell.execute_reply.started": "2025-04-11T02:10:38.298307Z"
    }
   },
   "outputs": [
    {
     "data": {
      "text/plain": [
       "0"
      ]
     },
     "execution_count": 6,
     "metadata": {},
     "output_type": "execute_result"
    }
   ],
   "source": [
    "model_tnf_mutant = doc.createModel()\n",
    "model_tnf_mutant.setId(\"model_tnf_mutant\")\n",
    "model_tnf_mutant.setSource(\"cell_fate.sbml\")\n",
    "model_tnf_mutant.setLanguage(\"urn:sedml:language:sbml\")"
   ]
  },
  {
   "cell_type": "code",
   "execution_count": 7,
   "id": "0eca041a-ecac-488c-a432-8b48a89b9d53",
   "metadata": {
    "execution": {
     "iopub.execute_input": "2025-04-11T02:10:38.301194Z",
     "iopub.status.busy": "2025-04-11T02:10:38.301097Z",
     "iopub.status.idle": "2025-04-11T02:10:38.303610Z",
     "shell.execute_reply": "2025-04-11T02:10:38.303293Z",
     "shell.execute_reply.started": "2025-04-11T02:10:38.301185Z"
    }
   },
   "outputs": [
    {
     "data": {
      "text/plain": [
       "0"
      ]
     },
     "execution_count": 7,
     "metadata": {},
     "output_type": "execute_result"
    }
   ],
   "source": [
    "# Turn TNF initial state to 1\n",
    "change = model_tnf_mutant.createChangeAttribute()\n",
    "change.setTarget(\"/sbml:sbml/sbml:model/qual:listOfQualitativeSpecies/qual:qualitativeSpecies[@qual:id='TNF']/@qual:initialLevel\")\n",
    "change.setNewValue(\"1\")"
   ]
  },
  {
   "cell_type": "code",
   "execution_count": 8,
   "id": "56056fd7-7e09-4907-a0dc-398cafc708d1",
   "metadata": {
    "execution": {
     "iopub.execute_input": "2025-04-11T02:10:38.304017Z",
     "iopub.status.busy": "2025-04-11T02:10:38.303926Z",
     "iopub.status.idle": "2025-04-11T02:10:38.307273Z",
     "shell.execute_reply": "2025-04-11T02:10:38.306776Z",
     "shell.execute_reply.started": "2025-04-11T02:10:38.304008Z"
    }
   },
   "outputs": [
    {
     "data": {
      "text/plain": [
       "0"
      ]
     },
     "execution_count": 8,
     "metadata": {},
     "output_type": "execute_result"
    }
   ],
   "source": [
    "# remove input from cFLIP transition\n",
    "remove = model_tnf_mutant.createRemoveXML()\n",
    "remove.setTarget(\"/sbml:sbml/sbml:model/qual:listOfTransitions/qual:transition[@qual:id='tr_cFLIP']/qual:listOfInputs\")\n",
    "\n",
    "change = model_tnf_mutant.createChangeXML()\n",
    "change.setTarget(\"/sbml:sbml/sbml:model/qual:listOfTransitions/qual:transition[@qual:id='tr_cFLIP']/qual:listOfFunctionTerms/qual:functionTerm[@qual:resultLevel='1']/math:math\")\n",
    "new_xml = libsedml.XMLNode.convertStringToXMLNode(\n",
    "    \"  <math xmlns='http://www.w3.org/1998/Math/MathML'>\"\\\n",
    "    \"    <true/>\"\\\n",
    "    \"  </math>\"\n",
    ")\n",
    "change.setNewXML(new_xml)"
   ]
  },
  {
   "cell_type": "code",
   "execution_count": 9,
   "id": "2c996be2-d899-4b40-8917-556a5dbd27ab",
   "metadata": {
    "execution": {
     "iopub.execute_input": "2025-04-11T02:10:38.307806Z",
     "iopub.status.busy": "2025-04-11T02:10:38.307667Z",
     "iopub.status.idle": "2025-04-11T02:10:38.311167Z",
     "shell.execute_reply": "2025-04-11T02:10:38.310835Z",
     "shell.execute_reply.started": "2025-04-11T02:10:38.307793Z"
    }
   },
   "outputs": [
    {
     "data": {
      "text/plain": [
       "0"
      ]
     },
     "execution_count": 9,
     "metadata": {},
     "output_type": "execute_result"
    }
   ],
   "source": [
    "# remove input from cFLIP transition\n",
    "remove = model_tnf_mutant.createRemoveXML()\n",
    "remove.setTarget(\"/sbml:sbml/sbml:model/qual:listOfTransitions/qual:transition[@qual:id='tr_IKK']/qual:listOfInputs\")\n",
    "\n",
    "change = model_tnf_mutant.createChangeXML()\n",
    "change.setTarget(\"/sbml:sbml/sbml:model/qual:listOfTransitions/qual:transition[@qual:id='tr_IKK']/qual:listOfFunctionTerms/qual:functionTerm[@qual:resultLevel='1']/math:math\")\n",
    "new_xml = libsedml.XMLNode.convertStringToXMLNode(\n",
    "    \"  <math xmlns='http://www.w3.org/1998/Math/MathML'>\"\\\n",
    "    \"    <true/>\"\\\n",
    "    \"  </math>\"\n",
    ")\n",
    "change.setNewXML(new_xml)"
   ]
  },
  {
   "cell_type": "code",
   "execution_count": 10,
   "id": "f29a72b2-6547-4d5b-8d94-592230132cfa",
   "metadata": {
    "execution": {
     "iopub.execute_input": "2025-04-11T02:10:38.311854Z",
     "iopub.status.busy": "2025-04-11T02:10:38.311576Z",
     "iopub.status.idle": "2025-04-11T02:10:38.315249Z",
     "shell.execute_reply": "2025-04-11T02:10:38.314843Z",
     "shell.execute_reply.started": "2025-04-11T02:10:38.311838Z"
    }
   },
   "outputs": [
    {
     "data": {
      "text/plain": [
       "0"
      ]
     },
     "execution_count": 10,
     "metadata": {},
     "output_type": "execute_result"
    }
   ],
   "source": [
    "simulation = doc.createUniformTimeCourse()\n",
    "simulation.setId(\"simulation\")\n",
    "simulation.setInitialTime(0.0)\n",
    "simulation.setOutputStartTime(0.0)\n",
    "simulation.setOutputEndTime(100.0)\n",
    "simulation.setNumberOfSteps(1000)"
   ]
  },
  {
   "cell_type": "code",
   "execution_count": 11,
   "id": "660770b9-0528-4ae7-ac8e-f2d6cb1ea11d",
   "metadata": {
    "execution": {
     "iopub.execute_input": "2025-04-11T02:10:38.315561Z",
     "iopub.status.busy": "2025-04-11T02:10:38.315475Z",
     "iopub.status.idle": "2025-04-11T02:10:38.318394Z",
     "shell.execute_reply": "2025-04-11T02:10:38.318095Z",
     "shell.execute_reply.started": "2025-04-11T02:10:38.315553Z"
    }
   },
   "outputs": [
    {
     "data": {
      "text/plain": [
       "0"
      ]
     },
     "execution_count": 11,
     "metadata": {},
     "output_type": "execute_result"
    }
   ],
   "source": [
    "algo = simulation.createAlgorithm()\n",
    "algo.setId(\"algo\")\n",
    "algo.setKisaoID(\"KISAO:0000581\")\n",
    "\n",
    "# thread_count\n",
    "param = algo.createAlgorithmParameter()\n",
    "param.setKisaoID(\"KISAO:0000529\")\n",
    "param.setValue(\"8\")\n",
    "\n",
    "# sample_count\n",
    "param = algo.createAlgorithmParameter()\n",
    "param.setKisaoID(\"KISAO:0000498\")\n",
    "param.setValue(\"10000\")\n",
    "\n",
    "# seed\n",
    "param = algo.createAlgorithmParameter()\n",
    "param.setKisaoID(\"KISAO:0000488\")\n",
    "param.setValue(\"100\")"
   ]
  },
  {
   "cell_type": "code",
   "execution_count": 12,
   "id": "00f4cca5-d68f-48e6-bc70-c478e396e45e",
   "metadata": {
    "execution": {
     "iopub.execute_input": "2025-04-11T02:10:38.319010Z",
     "iopub.status.busy": "2025-04-11T02:10:38.318904Z",
     "iopub.status.idle": "2025-04-11T02:10:38.321204Z",
     "shell.execute_reply": "2025-04-11T02:10:38.320914Z",
     "shell.execute_reply.started": "2025-04-11T02:10:38.319001Z"
    }
   },
   "outputs": [
    {
     "data": {
      "text/plain": [
       "0"
      ]
     },
     "execution_count": 12,
     "metadata": {},
     "output_type": "execute_result"
    }
   ],
   "source": [
    "task_wt = doc.createTask()\n",
    "task_wt.setId(\"task_wt\")\n",
    "task_wt.setModelReference(\"model_wt\")\n",
    "task_wt.setSimulationReference(\"simulation\")"
   ]
  },
  {
   "cell_type": "code",
   "execution_count": 13,
   "id": "95e63bec-069b-4574-a0db-f80e66da38e9",
   "metadata": {
    "execution": {
     "iopub.execute_input": "2025-04-11T02:10:38.321508Z",
     "iopub.status.busy": "2025-04-11T02:10:38.321425Z",
     "iopub.status.idle": "2025-04-11T02:10:38.323734Z",
     "shell.execute_reply": "2025-04-11T02:10:38.323505Z",
     "shell.execute_reply.started": "2025-04-11T02:10:38.321501Z"
    }
   },
   "outputs": [
    {
     "data": {
      "text/plain": [
       "0"
      ]
     },
     "execution_count": 13,
     "metadata": {},
     "output_type": "execute_result"
    }
   ],
   "source": [
    "task_tnf = doc.createTask()\n",
    "task_tnf.setId(\"task_tnf\")\n",
    "task_tnf.setModelReference(\"model_tnf\")\n",
    "task_tnf.setSimulationReference(\"simulation\")"
   ]
  },
  {
   "cell_type": "code",
   "execution_count": 14,
   "id": "92630284-24ce-46c1-a584-0a0bbc046d25",
   "metadata": {
    "execution": {
     "iopub.execute_input": "2025-04-11T02:10:38.324047Z",
     "iopub.status.busy": "2025-04-11T02:10:38.323971Z",
     "iopub.status.idle": "2025-04-11T02:10:38.327203Z",
     "shell.execute_reply": "2025-04-11T02:10:38.326833Z",
     "shell.execute_reply.started": "2025-04-11T02:10:38.324040Z"
    }
   },
   "outputs": [
    {
     "data": {
      "text/plain": [
       "0"
      ]
     },
     "execution_count": 14,
     "metadata": {},
     "output_type": "execute_result"
    }
   ],
   "source": [
    "task_tnf_mutant = doc.createTask()\n",
    "task_tnf_mutant.setId(\"task_tnf_mutant\")\n",
    "task_tnf_mutant.setModelReference(\"model_tnf_mutant\")\n",
    "task_tnf_mutant.setSimulationReference(\"simulation\")"
   ]
  },
  {
   "cell_type": "code",
   "execution_count": 15,
   "id": "7e351014-a012-4e05-9fe5-6c3873358274",
   "metadata": {
    "execution": {
     "iopub.execute_input": "2025-04-11T02:10:38.327604Z",
     "iopub.status.busy": "2025-04-11T02:10:38.327515Z",
     "iopub.status.idle": "2025-04-11T02:10:38.334185Z",
     "shell.execute_reply": "2025-04-11T02:10:38.333417Z",
     "shell.execute_reply.started": "2025-04-11T02:10:38.327596Z"
    }
   },
   "outputs": [
    {
     "data": {
      "text/plain": [
       "0"
      ]
     },
     "execution_count": 15,
     "metadata": {},
     "output_type": "execute_result"
    }
   ],
   "source": [
    "time = doc.createDataGenerator()\n",
    "time.setId(\"data_time_wt\")\n",
    "time.setName(\"time\")\n",
    "var_time = time.createVariable()\n",
    "var_time.setId(\"t\")\n",
    "var_time.setName(\"time\")\n",
    "var_time.setTaskReference(\"task_wt\")\n",
    "var_time.setSymbol(\"urn:sedml:symbol:time\")\n",
    "time.setMath(libsedml.parseFormula(\"t\"))\n",
    "\n",
    "# and one for S1\n",
    "survival = doc.createDataGenerator()\n",
    "survival.setId(\"data_survival_wt\")\n",
    "survival.setName(\"Survival\")\n",
    "var_survival = survival.createVariable()\n",
    "var_survival.setId(\"Survival\")\n",
    "var_survival.setName(\"Survival\")\n",
    "var_survival.setTaskReference(\"task_wt\")\n",
    "var_survival.setTarget(\"/sbml:sbml/sbml:model/qual:listOfQualitativeSpecies/qual:qualitativeSpecies[@qual:id='Survival']\")\n",
    "survival.setMath(libsedml.parseFormula(\"Survival\"))\n",
    "\n",
    "nonacd = doc.createDataGenerator()\n",
    "nonacd.setId(\"data_nonacd_wt\")\n",
    "nonacd.setName(\"NonACD\")\n",
    "var_nonacd = nonacd.createVariable()\n",
    "var_nonacd.setId(\"NonACD\")\n",
    "var_nonacd.setName(\"NonACD\")\n",
    "var_nonacd.setTaskReference(\"task_wt\")\n",
    "var_nonacd.setTarget(\"/sbml:sbml/sbml:model/qual:listOfQualitativeSpecies/qual:qualitativeSpecies[@qual:id='NonACD']\")\n",
    "nonacd.setMath(libsedml.parseFormula(\"NonACD\"))\n",
    "\n",
    "apoptosis = doc.createDataGenerator()\n",
    "apoptosis.setId(\"data_apoptosis_wt\")\n",
    "apoptosis.setName(\"Apoptosis\")\n",
    "var_apoptosis = apoptosis.createVariable()\n",
    "var_apoptosis.setId(\"Apoptosis\")\n",
    "var_apoptosis.setName(\"Apoptosis\")\n",
    "var_apoptosis.setTaskReference(\"task_wt\")\n",
    "var_apoptosis.setTarget(\"/sbml:sbml/sbml:model/qual:listOfQualitativeSpecies/qual:qualitativeSpecies[@qual:id='Apoptosis']\")\n",
    "apoptosis.setMath(libsedml.parseFormula(\"Apoptosis\"))"
   ]
  },
  {
   "cell_type": "code",
   "execution_count": 16,
   "id": "64178a56-916b-49be-a18c-0e481fbdcc00",
   "metadata": {
    "execution": {
     "iopub.execute_input": "2025-04-11T02:10:38.335042Z",
     "iopub.status.busy": "2025-04-11T02:10:38.334673Z",
     "iopub.status.idle": "2025-04-11T02:10:38.340636Z",
     "shell.execute_reply": "2025-04-11T02:10:38.340394Z",
     "shell.execute_reply.started": "2025-04-11T02:10:38.335024Z"
    }
   },
   "outputs": [
    {
     "data": {
      "text/plain": [
       "0"
      ]
     },
     "execution_count": 16,
     "metadata": {},
     "output_type": "execute_result"
    }
   ],
   "source": [
    "time = doc.createDataGenerator()\n",
    "time.setId(\"data_time_tnf\")\n",
    "time.setName(\"time\")\n",
    "var_time = time.createVariable()\n",
    "var_time.setId(\"t\")\n",
    "var_time.setName(\"time\")\n",
    "var_time.setTaskReference(\"task_tnf\")\n",
    "var_time.setSymbol(\"urn:sedml:symbol:time\")\n",
    "time.setMath(libsedml.parseFormula(\"t\"))\n",
    "\n",
    "# and one for S1\n",
    "survival = doc.createDataGenerator()\n",
    "survival.setId(\"data_survival_tnf\")\n",
    "survival.setName(\"Survival\")\n",
    "var_survival = survival.createVariable()\n",
    "var_survival.setId(\"Survival\")\n",
    "var_survival.setName(\"Survival\")\n",
    "var_survival.setTaskReference(\"task_tnf\")\n",
    "var_survival.setTarget(\"/sbml:sbml/sbml:model/qual:listOfQualitativeSpecies/qual:qualitativeSpecies[@qual:id='Survival']\")\n",
    "survival.setMath(libsedml.parseFormula(\"Survival\"))\n",
    "\n",
    "nonacd = doc.createDataGenerator()\n",
    "nonacd.setId(\"data_nonacd_tnf\")\n",
    "nonacd.setName(\"NonACD\")\n",
    "var_nonacd = nonacd.createVariable()\n",
    "var_nonacd.setId(\"NonACD\")\n",
    "var_nonacd.setName(\"NonACD\")\n",
    "var_nonacd.setTaskReference(\"task_tnf\")\n",
    "var_nonacd.setTarget(\"/sbml:sbml/sbml:model/qual:listOfQualitativeSpecies/qual:qualitativeSpecies[@qual:id='NonACD']\")\n",
    "nonacd.setMath(libsedml.parseFormula(\"NonACD\"))\n",
    "\n",
    "apoptosis = doc.createDataGenerator()\n",
    "apoptosis.setId(\"data_apoptosis_tnf\")\n",
    "apoptosis.setName(\"Apoptosis\")\n",
    "var_apoptosis = apoptosis.createVariable()\n",
    "var_apoptosis.setId(\"Apoptosis\")\n",
    "var_apoptosis.setName(\"Apoptosis\")\n",
    "var_apoptosis.setTaskReference(\"task_tnf\")\n",
    "var_apoptosis.setTarget(\"/sbml:sbml/sbml:model/qual:listOfQualitativeSpecies/qual:qualitativeSpecies[@qual:id='Apoptosis']\")\n",
    "apoptosis.setMath(libsedml.parseFormula(\"Apoptosis\"))"
   ]
  },
  {
   "cell_type": "code",
   "execution_count": 17,
   "id": "5ff8590b-36ec-4a4f-b261-051837350e76",
   "metadata": {
    "execution": {
     "iopub.execute_input": "2025-04-11T02:10:38.341006Z",
     "iopub.status.busy": "2025-04-11T02:10:38.340917Z",
     "iopub.status.idle": "2025-04-11T02:10:38.346606Z",
     "shell.execute_reply": "2025-04-11T02:10:38.345602Z",
     "shell.execute_reply.started": "2025-04-11T02:10:38.340998Z"
    }
   },
   "outputs": [
    {
     "data": {
      "text/plain": [
       "0"
      ]
     },
     "execution_count": 17,
     "metadata": {},
     "output_type": "execute_result"
    }
   ],
   "source": [
    "time = doc.createDataGenerator()\n",
    "time.setId(\"data_time_tnf_mutant\")\n",
    "time.setName(\"time\")\n",
    "var_time = time.createVariable()\n",
    "var_time.setId(\"t\")\n",
    "var_time.setName(\"time\")\n",
    "var_time.setTaskReference(\"task_tnf_mutant\")\n",
    "var_time.setSymbol(\"urn:sedml:symbol:time\")\n",
    "time.setMath(libsedml.parseFormula(\"t\"))\n",
    "\n",
    "# and one for S1\n",
    "survival = doc.createDataGenerator()\n",
    "survival.setId(\"data_survival_tnf_mutant\")\n",
    "survival.setName(\"Survival\")\n",
    "var_survival = survival.createVariable()\n",
    "var_survival.setId(\"Survival\")\n",
    "var_survival.setName(\"Survival\")\n",
    "var_survival.setTaskReference(\"task_tnf_mutant\")\n",
    "var_survival.setTarget(\"/sbml:sbml/sbml:model/qual:listOfQualitativeSpecies/qual:qualitativeSpecies[@qual:id='Survival']\")\n",
    "survival.setMath(libsedml.parseFormula(\"Survival\"))\n",
    "\n",
    "nonacd = doc.createDataGenerator()\n",
    "nonacd.setId(\"data_nonacd_tnf_mutant\")\n",
    "nonacd.setName(\"NonACD\")\n",
    "var_nonacd = nonacd.createVariable()\n",
    "var_nonacd.setId(\"NonACD\")\n",
    "var_nonacd.setName(\"NonACD\")\n",
    "var_nonacd.setTaskReference(\"task_tnf_mutant\")\n",
    "var_nonacd.setTarget(\"/sbml:sbml/sbml:model/qual:listOfQualitativeSpecies/qual:qualitativeSpecies[@qual:id='NonACD']\")\n",
    "nonacd.setMath(libsedml.parseFormula(\"NonACD\"))\n",
    "\n",
    "apoptosis = doc.createDataGenerator()\n",
    "apoptosis.setId(\"data_apoptosis_tnf_mutant\")\n",
    "apoptosis.setName(\"Apoptosis\")\n",
    "var_apoptosis = apoptosis.createVariable()\n",
    "var_apoptosis.setId(\"Apoptosis\")\n",
    "var_apoptosis.setName(\"Apoptosis\")\n",
    "var_apoptosis.setTaskReference(\"task_tnf_mutant\")\n",
    "var_apoptosis.setTarget(\"/sbml:sbml/sbml:model/qual:listOfQualitativeSpecies/qual:qualitativeSpecies[@qual:id='Apoptosis']\")\n",
    "apoptosis.setMath(libsedml.parseFormula(\"Apoptosis\"))"
   ]
  },
  {
   "cell_type": "code",
   "execution_count": 18,
   "id": "818d6bc5-3dbe-4b82-a375-b1bb1d4c940f",
   "metadata": {
    "execution": {
     "iopub.execute_input": "2025-04-11T02:10:38.347595Z",
     "iopub.status.busy": "2025-04-11T02:10:38.347253Z",
     "iopub.status.idle": "2025-04-11T02:10:38.352625Z",
     "shell.execute_reply": "2025-04-11T02:10:38.352139Z",
     "shell.execute_reply.started": "2025-04-11T02:10:38.347576Z"
    }
   },
   "outputs": [
    {
     "data": {
      "text/plain": [
       "0"
      ]
     },
     "execution_count": 18,
     "metadata": {},
     "output_type": "execute_result"
    }
   ],
   "source": [
    "# add a report\n",
    "report = doc.createReport()\n",
    "report.setId(\"report_wt\")\n",
    "report.setName(\"report_wt.csv\")\n",
    "set = report.createDataSet()\n",
    "set.setId(\"ds1\")\n",
    "set.setLabel(\"time\")\n",
    "set.setDataReference(\"data_time_wt\")\n",
    "set = report.createDataSet()\n",
    "set.setId(\"ds2\")\n",
    "set.setLabel(\"Survival\")\n",
    "set.setDataReference(\"data_survival_wt\")\n",
    "set = report.createDataSet()\n",
    "set.setId(\"ds3\")\n",
    "set.setLabel(\"NonACD\")\n",
    "set.setDataReference(\"data_nonacd_wt\")\n",
    "set = report.createDataSet()\n",
    "set.setId(\"ds4\")\n",
    "set.setLabel(\"Apoptosis\")\n",
    "set.setDataReference(\"data_apoptosis_wt\")"
   ]
  },
  {
   "cell_type": "code",
   "execution_count": 19,
   "id": "fd5f61f8-c415-4de3-89c2-9e53e99d3ffd",
   "metadata": {
    "execution": {
     "iopub.execute_input": "2025-04-11T02:10:38.353408Z",
     "iopub.status.busy": "2025-04-11T02:10:38.353223Z",
     "iopub.status.idle": "2025-04-11T02:10:38.357851Z",
     "shell.execute_reply": "2025-04-11T02:10:38.357515Z",
     "shell.execute_reply.started": "2025-04-11T02:10:38.353391Z"
    }
   },
   "outputs": [
    {
     "data": {
      "text/plain": [
       "0"
      ]
     },
     "execution_count": 19,
     "metadata": {},
     "output_type": "execute_result"
    }
   ],
   "source": [
    "# add a report\n",
    "report = doc.createReport()\n",
    "report.setId(\"report_tnf\")\n",
    "report.setName(\"report_tnf.csv\")\n",
    "set = report.createDataSet()\n",
    "set.setId(\"ds1\")\n",
    "set.setLabel(\"time\")\n",
    "set.setDataReference(\"data_time_tnf\")\n",
    "set = report.createDataSet()\n",
    "set.setId(\"ds2\")\n",
    "set.setLabel(\"Survival\")\n",
    "set.setDataReference(\"data_survival_tnf\")\n",
    "set = report.createDataSet()\n",
    "set.setId(\"ds3\")\n",
    "set.setLabel(\"NonACD\")\n",
    "set.setDataReference(\"data_nonacd_tnf\")\n",
    "set = report.createDataSet()\n",
    "set.setId(\"ds4\")\n",
    "set.setLabel(\"Apoptosis\")\n",
    "set.setDataReference(\"data_apoptosis_tnf\")"
   ]
  },
  {
   "cell_type": "code",
   "execution_count": 20,
   "id": "68c31de8-10ed-435f-b8ba-9d1d79b76d22",
   "metadata": {
    "execution": {
     "iopub.execute_input": "2025-04-11T02:10:38.358347Z",
     "iopub.status.busy": "2025-04-11T02:10:38.358233Z",
     "iopub.status.idle": "2025-04-11T02:10:38.362072Z",
     "shell.execute_reply": "2025-04-11T02:10:38.361716Z",
     "shell.execute_reply.started": "2025-04-11T02:10:38.358336Z"
    }
   },
   "outputs": [
    {
     "data": {
      "text/plain": [
       "0"
      ]
     },
     "execution_count": 20,
     "metadata": {},
     "output_type": "execute_result"
    }
   ],
   "source": [
    "# add a report\n",
    "report = doc.createReport()\n",
    "report.setId(\"report_tnf_mutant\")\n",
    "report.setName(\"report_tnf_mutant.csv\")\n",
    "set = report.createDataSet()\n",
    "set.setId(\"ds1\")\n",
    "set.setLabel(\"time\")\n",
    "set.setDataReference(\"data_time_tnf_mutant\")\n",
    "set = report.createDataSet()\n",
    "set.setId(\"ds2\")\n",
    "set.setLabel(\"Survival\")\n",
    "set.setDataReference(\"data_survival_tnf_mutant\")\n",
    "set = report.createDataSet()\n",
    "set.setId(\"ds3\")\n",
    "set.setLabel(\"NonACD\")\n",
    "set.setDataReference(\"data_nonacd_tnf_mutant\")\n",
    "set = report.createDataSet()\n",
    "set.setId(\"ds4\")\n",
    "set.setLabel(\"Apoptosis\")\n",
    "set.setDataReference(\"data_apoptosis_tnf_mutant\")"
   ]
  },
  {
   "cell_type": "code",
   "execution_count": 21,
   "id": "66fc7390-8986-4455-a43b-ebc66b2ca188",
   "metadata": {
    "execution": {
     "iopub.execute_input": "2025-04-11T02:10:38.364169Z",
     "iopub.status.busy": "2025-04-11T02:10:38.363669Z",
     "iopub.status.idle": "2025-04-11T02:10:38.367613Z",
     "shell.execute_reply": "2025-04-11T02:10:38.367167Z",
     "shell.execute_reply.started": "2025-04-11T02:10:38.364149Z"
    }
   },
   "outputs": [
    {
     "data": {
      "text/plain": [
       "0"
      ]
     },
     "execution_count": 21,
     "metadata": {},
     "output_type": "execute_result"
    }
   ],
   "source": [
    "style = doc.createStyle()\n",
    "style.setId('line_green')\n",
    "line = style.createLineStyle()\n",
    "# line.setStyle('solid')\n",
    "line.setColor('#2ca02cff')\n",
    "\n",
    "style = doc.createStyle()\n",
    "style.setId('line_red')\n",
    "line = style.createLineStyle()\n",
    "# line.setStyle('solid')\n",
    "line.setColor('#d62728ff')\n",
    "\n",
    "style = doc.createStyle()\n",
    "style.setId('line_purple')\n",
    "line = style.createLineStyle()\n",
    "# line.setStyle('solid')\n",
    "line.setColor('#9467bdff')"
   ]
  },
  {
   "cell_type": "code",
   "execution_count": 22,
   "id": "5e094649-cc4e-48e8-a89a-0a8c66789dae",
   "metadata": {
    "execution": {
     "iopub.execute_input": "2025-04-11T02:10:38.368291Z",
     "iopub.status.busy": "2025-04-11T02:10:38.368100Z",
     "iopub.status.idle": "2025-04-11T02:10:38.373647Z",
     "shell.execute_reply": "2025-04-11T02:10:38.373157Z",
     "shell.execute_reply.started": "2025-04-11T02:10:38.368273Z"
    }
   },
   "outputs": [
    {
     "data": {
      "text/plain": [
       "0"
      ]
     },
     "execution_count": 22,
     "metadata": {},
     "output_type": "execute_result"
    }
   ],
   "source": [
    "plot = doc.createPlot2D()\n",
    "plot.setId('plot_trajectories_wt')\n",
    "plot.setLegend(True)\n",
    "\n",
    "curve = plot.createCurve()\n",
    "curve.setId('curve_survival_wt')\n",
    "curve.setName('Survival')\n",
    "curve.setOrder(0)\n",
    "curve.setXDataReference('data_time_wt')\n",
    "curve.setYDataReference('data_survival_wt')\n",
    "curve.setStyle('line_purple')\n",
    "\n",
    "curve = plot.createCurve()\n",
    "curve.setId('curve_apoptosis_wt')\n",
    "curve.setName('Apoptosis')\n",
    "curve.setOrder(1)\n",
    "curve.setXDataReference('data_time_wt')\n",
    "curve.setYDataReference('data_apoptosis_wt')\n",
    "curve.setStyle('line_green')\n",
    "\n",
    "curve = plot.createCurve()\n",
    "curve.setId('curve_nonacd_wt')\n",
    "curve.setName('NonACD')\n",
    "curve.setOrder(2)\n",
    "curve.setXDataReference('data_time_wt')\n",
    "curve.setYDataReference('data_nonacd_wt')\n",
    "curve.setStyle('line_red')"
   ]
  },
  {
   "cell_type": "code",
   "execution_count": 23,
   "id": "be242ea0-a8ac-440b-aed0-a77a0560b0d9",
   "metadata": {
    "execution": {
     "iopub.execute_input": "2025-04-11T02:10:38.374525Z",
     "iopub.status.busy": "2025-04-11T02:10:38.374202Z",
     "iopub.status.idle": "2025-04-11T02:10:38.379469Z",
     "shell.execute_reply": "2025-04-11T02:10:38.379023Z",
     "shell.execute_reply.started": "2025-04-11T02:10:38.374507Z"
    }
   },
   "outputs": [
    {
     "data": {
      "text/plain": [
       "0"
      ]
     },
     "execution_count": 23,
     "metadata": {},
     "output_type": "execute_result"
    }
   ],
   "source": [
    "plot = doc.createPlot2D()\n",
    "plot.setId('plot_trajectories_tnf')\n",
    "plot.setLegend(True)\n",
    "\n",
    "curve = plot.createCurve()\n",
    "curve.setId('curve_survival_tnf')\n",
    "curve.setName('Survival')\n",
    "curve.setOrder(0)\n",
    "curve.setXDataReference('data_time_tnf')\n",
    "curve.setYDataReference('data_survival_tnf')\n",
    "curve.setStyle('line_purple')\n",
    "\n",
    "curve = plot.createCurve()\n",
    "curve.setId('curve_apoptosis_tnf')\n",
    "curve.setName('Apoptosis')\n",
    "curve.setOrder(0)\n",
    "curve.setXDataReference('data_time_tnf')\n",
    "curve.setYDataReference('data_apoptosis_tnf')\n",
    "curve.setStyle('line_green')\n",
    "\n",
    "curve = plot.createCurve()\n",
    "curve.setId('curve_nonacd_tnf')\n",
    "curve.setName('NonACD')\n",
    "curve.setOrder(0)\n",
    "curve.setXDataReference('data_time_tnf')\n",
    "curve.setYDataReference('data_nonacd_tnf')\n",
    "curve.setStyle('line_red')"
   ]
  },
  {
   "cell_type": "code",
   "execution_count": 24,
   "id": "e119c0f8-342c-4ecb-bfab-720afbdce5a2",
   "metadata": {
    "execution": {
     "iopub.execute_input": "2025-04-11T02:10:38.380409Z",
     "iopub.status.busy": "2025-04-11T02:10:38.380027Z",
     "iopub.status.idle": "2025-04-11T02:10:38.384985Z",
     "shell.execute_reply": "2025-04-11T02:10:38.384670Z",
     "shell.execute_reply.started": "2025-04-11T02:10:38.380387Z"
    }
   },
   "outputs": [
    {
     "data": {
      "text/plain": [
       "0"
      ]
     },
     "execution_count": 24,
     "metadata": {},
     "output_type": "execute_result"
    }
   ],
   "source": [
    "plot = doc.createPlot2D()\n",
    "plot.setId('plot_trajectories_tnf_mutant')\n",
    "plot.setLegend(True)\n",
    "\n",
    "curve = plot.createCurve()\n",
    "curve.setId('curve_survival_tnf_mutant')\n",
    "curve.setName('Survival')\n",
    "curve.setOrder(0)\n",
    "curve.setXDataReference('data_time_tnf_mutant')\n",
    "curve.setYDataReference('data_survival_tnf_mutant')\n",
    "curve.setStyle('line_purple')\n",
    "\n",
    "curve = plot.createCurve()\n",
    "curve.setId('curve_apoptosis_tnf_mutant')\n",
    "curve.setName('Apoptosis')\n",
    "curve.setOrder(0)\n",
    "curve.setXDataReference('data_time_tnf_mutant')\n",
    "curve.setYDataReference('data_apoptosis_tnf_mutant')\n",
    "curve.setStyle('line_green')\n",
    "\n",
    "curve = plot.createCurve()\n",
    "curve.setId('curve_nonacd_tnf_mutant')\n",
    "curve.setName('NonACD')\n",
    "curve.setOrder(0)\n",
    "curve.setXDataReference('data_time_tnf_mutant')\n",
    "curve.setYDataReference('data_nonacd_tnf_mutant')\n",
    "curve.setStyle('line_red')"
   ]
  },
  {
   "cell_type": "code",
   "execution_count": 25,
   "id": "c2175d0f-7285-4a74-88e9-6ac03beee839",
   "metadata": {
    "execution": {
     "iopub.execute_input": "2025-04-11T02:10:38.385415Z",
     "iopub.status.busy": "2025-04-11T02:10:38.385309Z",
     "iopub.status.idle": "2025-04-11T02:10:38.388806Z",
     "shell.execute_reply": "2025-04-11T02:10:38.388345Z",
     "shell.execute_reply.started": "2025-04-11T02:10:38.385405Z"
    }
   },
   "outputs": [
    {
     "data": {
      "text/plain": [
       "True"
      ]
     },
     "execution_count": 25,
     "metadata": {},
     "output_type": "execute_result"
    }
   ],
   "source": [
    "writer = libsedml.SedWriter()\n",
    "writer.writeSedMLToFile(doc, \"cell_fate.sedml\")"
   ]
  },
  {
   "cell_type": "code",
   "execution_count": null,
   "id": "df4f8114-f477-4e37-8d0e-532e13a2314b",
   "metadata": {},
   "outputs": [],
   "source": []
  }
 ],
 "metadata": {
  "kernelspec": {
   "display_name": "Python 3 (ipykernel)",
   "language": "python",
   "name": "python3"
  },
  "language_info": {
   "codemirror_mode": {
    "name": "ipython",
    "version": 3
   },
   "file_extension": ".py",
   "mimetype": "text/x-python",
   "name": "python",
   "nbconvert_exporter": "python",
   "pygments_lexer": "ipython3",
   "version": "3.12.5"
  }
 },
 "nbformat": 4,
 "nbformat_minor": 5
}
