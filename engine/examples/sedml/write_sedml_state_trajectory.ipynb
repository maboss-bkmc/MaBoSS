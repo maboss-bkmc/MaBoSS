{
 "cells": [
  {
   "cell_type": "code",
   "execution_count": 1,
   "id": "03e918dd-6b72-4e2f-83fc-31f5a282d536",
   "metadata": {
    "execution": {
     "iopub.execute_input": "2025-04-11T02:15:48.124139Z",
     "iopub.status.busy": "2025-04-11T02:15:48.123834Z",
     "iopub.status.idle": "2025-04-11T02:15:48.239783Z",
     "shell.execute_reply": "2025-04-11T02:15:48.238867Z",
     "shell.execute_reply.started": "2025-04-11T02:15:48.124122Z"
    }
   },
   "outputs": [],
   "source": [
    "import libsedml\n",
    "import libsbml\n",
    "import itertools"
   ]
  },
  {
   "cell_type": "code",
   "execution_count": 2,
   "id": "79a99e94-35b9-41cb-9068-e0a033aef28b",
   "metadata": {
    "execution": {
     "iopub.execute_input": "2025-04-11T02:15:48.240547Z",
     "iopub.status.busy": "2025-04-11T02:15:48.240393Z",
     "iopub.status.idle": "2025-04-11T02:15:48.245169Z",
     "shell.execute_reply": "2025-04-11T02:15:48.244796Z",
     "shell.execute_reply.started": "2025-04-11T02:15:48.240532Z"
    }
   },
   "outputs": [
    {
     "data": {
      "text/plain": [
       "0"
      ]
     },
     "execution_count": 2,
     "metadata": {},
     "output_type": "execute_result"
    }
   ],
   "source": [
    "doc = libsedml.SedDocument()\n",
    "doc.setLevel(1)\n",
    "doc.setVersion(5)"
   ]
  },
  {
   "cell_type": "code",
   "execution_count": 3,
   "id": "f6499111-7d2f-4f57-8ddd-dce42e3a6b0d",
   "metadata": {
    "execution": {
     "iopub.execute_input": "2025-04-11T02:15:48.245494Z",
     "iopub.status.busy": "2025-04-11T02:15:48.245414Z",
     "iopub.status.idle": "2025-04-11T02:15:48.260383Z",
     "shell.execute_reply": "2025-04-11T02:15:48.259877Z",
     "shell.execute_reply.started": "2025-04-11T02:15:48.245486Z"
    }
   },
   "outputs": [
    {
     "data": {
      "text/plain": [
       "0"
      ]
     },
     "execution_count": 3,
     "metadata": {},
     "output_type": "execute_result"
    }
   ],
   "source": [
    "model_tnf = doc.createModel()\n",
    "model_tnf.setId(\"model_tnf\")\n",
    "model_tnf.setSource(\"cell_fate.sbml\")\n",
    "model_tnf.setLanguage(\"urn:sedml:language:sbml\")"
   ]
  },
  {
   "cell_type": "code",
   "execution_count": 4,
   "id": "295846bd-372a-4161-963b-c6b9ae908b2c",
   "metadata": {
    "execution": {
     "iopub.execute_input": "2025-04-11T02:15:48.260818Z",
     "iopub.status.busy": "2025-04-11T02:15:48.260693Z",
     "iopub.status.idle": "2025-04-11T02:15:48.263381Z",
     "shell.execute_reply": "2025-04-11T02:15:48.263061Z",
     "shell.execute_reply.started": "2025-04-11T02:15:48.260809Z"
    }
   },
   "outputs": [
    {
     "data": {
      "text/plain": [
       "0"
      ]
     },
     "execution_count": 4,
     "metadata": {},
     "output_type": "execute_result"
    }
   ],
   "source": [
    "# Turn TNF initial state to 1\n",
    "change = model_tnf.createChangeAttribute()\n",
    "change.setTarget(\"/sbml:sbml/sbml:model/qual:listOfQualitativeSpecies/qual:qualitativeSpecies[@qual:id='TNF']/@qual:initialLevel\")\n",
    "change.setNewValue(\"1\")"
   ]
  },
  {
   "cell_type": "code",
   "execution_count": 5,
   "id": "f29a72b2-6547-4d5b-8d94-592230132cfa",
   "metadata": {
    "execution": {
     "iopub.execute_input": "2025-04-11T02:15:48.263832Z",
     "iopub.status.busy": "2025-04-11T02:15:48.263736Z",
     "iopub.status.idle": "2025-04-11T02:15:48.266489Z",
     "shell.execute_reply": "2025-04-11T02:15:48.266241Z",
     "shell.execute_reply.started": "2025-04-11T02:15:48.263823Z"
    }
   },
   "outputs": [
    {
     "data": {
      "text/plain": [
       "0"
      ]
     },
     "execution_count": 5,
     "metadata": {},
     "output_type": "execute_result"
    }
   ],
   "source": [
    "simulation = doc.createUniformTimeCourse()\n",
    "simulation.setId(\"simulation\")\n",
    "simulation.setInitialTime(0.0)\n",
    "simulation.setOutputStartTime(0.0)\n",
    "simulation.setOutputEndTime(100.0)\n",
    "simulation.setNumberOfSteps(1000)"
   ]
  },
  {
   "cell_type": "code",
   "execution_count": 6,
   "id": "660770b9-0528-4ae7-ac8e-f2d6cb1ea11d",
   "metadata": {
    "execution": {
     "iopub.execute_input": "2025-04-11T02:15:48.267282Z",
     "iopub.status.busy": "2025-04-11T02:15:48.267201Z",
     "iopub.status.idle": "2025-04-11T02:15:48.269979Z",
     "shell.execute_reply": "2025-04-11T02:15:48.269720Z",
     "shell.execute_reply.started": "2025-04-11T02:15:48.267275Z"
    }
   },
   "outputs": [
    {
     "data": {
      "text/plain": [
       "0"
      ]
     },
     "execution_count": 6,
     "metadata": {},
     "output_type": "execute_result"
    }
   ],
   "source": [
    "algo = simulation.createAlgorithm()\n",
    "algo.setId(\"algo\")\n",
    "algo.setKisaoID(\"KISAO:0000581\")\n",
    "\n",
    "# thread_count\n",
    "param = algo.createAlgorithmParameter()\n",
    "param.setKisaoID(\"KISAO:0000529\")\n",
    "param.setValue(\"8\")\n",
    "\n",
    "# sample_count\n",
    "param = algo.createAlgorithmParameter()\n",
    "param.setKisaoID(\"KISAO:0000498\")\n",
    "param.setValue(\"10000\")\n",
    "\n",
    "# seed\n",
    "param = algo.createAlgorithmParameter()\n",
    "param.setKisaoID(\"KISAO:0000488\")\n",
    "param.setValue(\"100\")"
   ]
  },
  {
   "cell_type": "code",
   "execution_count": 7,
   "id": "95e63bec-069b-4574-a0db-f80e66da38e9",
   "metadata": {
    "execution": {
     "iopub.execute_input": "2025-04-11T02:15:48.270359Z",
     "iopub.status.busy": "2025-04-11T02:15:48.270280Z",
     "iopub.status.idle": "2025-04-11T02:15:48.272527Z",
     "shell.execute_reply": "2025-04-11T02:15:48.272298Z",
     "shell.execute_reply.started": "2025-04-11T02:15:48.270352Z"
    }
   },
   "outputs": [
    {
     "data": {
      "text/plain": [
       "0"
      ]
     },
     "execution_count": 7,
     "metadata": {},
     "output_type": "execute_result"
    }
   ],
   "source": [
    "task_tnf = doc.createTask()\n",
    "task_tnf.setId(\"task_tnf\")\n",
    "task_tnf.setModelReference(\"model_tnf\")\n",
    "task_tnf.setSimulationReference(\"simulation\")"
   ]
  },
  {
   "cell_type": "code",
   "execution_count": 8,
   "id": "64178a56-916b-49be-a18c-0e481fbdcc00",
   "metadata": {
    "execution": {
     "iopub.execute_input": "2025-04-11T02:15:48.272827Z",
     "iopub.status.busy": "2025-04-11T02:15:48.272748Z",
     "iopub.status.idle": "2025-04-11T02:15:48.276540Z",
     "shell.execute_reply": "2025-04-11T02:15:48.276299Z",
     "shell.execute_reply.started": "2025-04-11T02:15:48.272819Z"
    }
   },
   "outputs": [
    {
     "data": {
      "text/plain": [
       "0"
      ]
     },
     "execution_count": 8,
     "metadata": {},
     "output_type": "execute_result"
    }
   ],
   "source": [
    "time = doc.createDataGenerator()\n",
    "time.setId(\"data_time_tnf\")\n",
    "time.setName(\"time\")\n",
    "var_time = time.createVariable()\n",
    "var_time.setId(\"t\")\n",
    "var_time.setName(\"time\")\n",
    "var_time.setTaskReference(\"task_tnf\")\n",
    "var_time.setSymbol(\"urn:sedml:symbol:time\")\n",
    "time.setMath(libsedml.parseFormula(\"t\"))\n",
    "\n",
    "# and one for S1\n",
    "survival = doc.createDataGenerator()\n",
    "survival.setId(\"data_survival_tnf\")\n",
    "survival.setName(\"Survival\")\n",
    "var_survival = survival.createVariable()\n",
    "var_survival.setId(\"Survival\")\n",
    "var_survival.setName(\"Survival\")\n",
    "var_survival.setTaskReference(\"task_tnf\")\n",
    "var_survival.setTarget(\"/sbml:sbml/sbml:model/qual:listOfQualitativeSpecies/qual:qualitativeSpecies[@qual:id='Survival']\")\n",
    "survival.setMath(libsedml.parseFormula(\"Survival\"))\n",
    "\n",
    "nonacd = doc.createDataGenerator()\n",
    "nonacd.setId(\"data_nonacd_tnf\")\n",
    "nonacd.setName(\"NonACD\")\n",
    "var_nonacd = nonacd.createVariable()\n",
    "var_nonacd.setId(\"NonACD\")\n",
    "var_nonacd.setName(\"NonACD\")\n",
    "var_nonacd.setTaskReference(\"task_tnf\")\n",
    "var_nonacd.setTarget(\"/sbml:sbml/sbml:model/qual:listOfQualitativeSpecies/qual:qualitativeSpecies[@qual:id='NonACD']\")\n",
    "nonacd.setMath(libsedml.parseFormula(\"NonACD\"))\n",
    "\n",
    "apoptosis = doc.createDataGenerator()\n",
    "apoptosis.setId(\"data_apoptosis_tnf\")\n",
    "apoptosis.setName(\"Apoptosis\")\n",
    "var_apoptosis = apoptosis.createVariable()\n",
    "var_apoptosis.setId(\"Apoptosis\")\n",
    "var_apoptosis.setName(\"Apoptosis\")\n",
    "var_apoptosis.setTaskReference(\"task_tnf\")\n",
    "var_apoptosis.setTarget(\"/sbml:sbml/sbml:model/qual:listOfQualitativeSpecies/qual:qualitativeSpecies[@qual:id='Apoptosis']\")\n",
    "apoptosis.setMath(libsedml.parseFormula(\"Apoptosis\"))"
   ]
  },
  {
   "cell_type": "code",
   "execution_count": 9,
   "id": "b0516d93-b77e-44e8-b7fc-dc243f6e28f8",
   "metadata": {
    "execution": {
     "iopub.execute_input": "2025-04-11T02:15:48.276846Z",
     "iopub.status.busy": "2025-04-11T02:15:48.276746Z",
     "iopub.status.idle": "2025-04-11T02:15:48.279592Z",
     "shell.execute_reply": "2025-04-11T02:15:48.279331Z",
     "shell.execute_reply.started": "2025-04-11T02:15:48.276837Z"
    }
   },
   "outputs": [
    {
     "name": "stdout",
     "output_type": "stream",
     "text": [
      "{'nil': (), 'Survival': ('Survival',), 'NonACD': ('NonACD',), 'Apoptosis': ('Apoptosis',), 'Survival -- NonACD': ('Survival', 'NonACD'), 'Survival -- Apoptosis': ('Survival', 'Apoptosis'), 'NonACD -- Apoptosis': ('NonACD', 'Apoptosis'), 'Survival -- NonACD -- Apoptosis': ('Survival', 'NonACD', 'Apoptosis')}\n",
      "{'nil': '!Survival && !NonACD && !Apoptosis ', 'Survival': 'Survival && !NonACD && !Apoptosis ', 'NonACD': '!Survival && NonACD && !Apoptosis ', 'Apoptosis': '!Survival && !NonACD && Apoptosis ', 'Survival -- NonACD': 'Survival && NonACD && !Apoptosis ', 'Survival -- Apoptosis': 'Survival && !NonACD && Apoptosis ', 'NonACD -- Apoptosis': '!Survival && NonACD && Apoptosis ', 'Survival -- NonACD -- Apoptosis': 'Survival && NonACD && Apoptosis '}\n"
     ]
    }
   ],
   "source": [
    "variables = [\"Survival\", \"NonACD\", \"Apoptosis\"]\n",
    "states = {}\n",
    "boolean_states = {}\n",
    "for i in range(len(variables)+1):\n",
    "    iter_states = itertools.combinations(variables, i)\n",
    "    for state in iter_states:\n",
    "        if len(state) == 0:\n",
    "            str_state = \"nil\"\n",
    "        else:\n",
    "            str_state = \" -- \".join(state)\n",
    "        states.update({str_state: state})\n",
    "        boolean_state = \"\"\n",
    "\n",
    "        for var in variables:\n",
    "            boolean_state += (\"!\" if not var in state else \"\") + var + \" && \"\n",
    "        boolean_state = boolean_state[:-3]\n",
    "        boolean_states.update({str_state: boolean_state})\n",
    "print(states)\n",
    "print(boolean_states)"
   ]
  },
  {
   "cell_type": "code",
   "execution_count": 10,
   "id": "af367e35-4147-4e83-9e88-03ed378d3312",
   "metadata": {
    "execution": {
     "iopub.execute_input": "2025-04-11T02:15:48.279935Z",
     "iopub.status.busy": "2025-04-11T02:15:48.279851Z",
     "iopub.status.idle": "2025-04-11T02:15:48.283067Z",
     "shell.execute_reply": "2025-04-11T02:15:48.282690Z",
     "shell.execute_reply.started": "2025-04-11T02:15:48.279928Z"
    }
   },
   "outputs": [
    {
     "name": "stdout",
     "output_type": "stream",
     "text": [
      "Checking formula for nil = (!Survival) && (!NonACD) && !Apoptosis\n",
      "Checking formula for Survival = Survival && (!NonACD) && !Apoptosis\n",
      "Checking formula for NonACD = (!Survival) && NonACD && !Apoptosis\n",
      "Checking formula for Apoptosis = (!Survival) && (!NonACD) && Apoptosis\n",
      "Checking formula for Survival -- NonACD = Survival && NonACD && !Apoptosis\n",
      "Checking formula for Survival -- Apoptosis = Survival && (!NonACD) && Apoptosis\n",
      "Checking formula for NonACD -- Apoptosis = (!Survival) && NonACD && Apoptosis\n",
      "Checking formula for Survival -- NonACD -- Apoptosis = Survival && NonACD && Apoptosis\n"
     ]
    }
   ],
   "source": [
    "for name, t_variables in states.items():\n",
    "    dg = doc.createDataGenerator()\n",
    "    if len(t_variables) > 0:\n",
    "        dg.setId(\"dg_\" + (\"_\".join([t_var.lower() for t_var in t_variables])))\n",
    "    else:\n",
    "        dg.setId(\"dg_nil\")\n",
    "    dg.setName(name)\n",
    "    for t_var in variables:\n",
    "        var = dg.createVariable()\n",
    "        var.setId(t_var)\n",
    "        var.setName(\"t_var\")\n",
    "        var.setTaskReference(\"task_tnf\")\n",
    "        var.setTarget(\"/sbml:sbml/sbml:model/qual:listOfQualitativeSpecies/qual:qualitativeSpecies[@qual:id='%s']\" % t_var)\n",
    "    formula = libsedml.parseL3Formula(boolean_states[name])\n",
    "    print(\"Checking formula for \" + name + \" = \" + libsedml.formulaToL3String(formula))\n",
    "    dg.setMath(formula)"
   ]
  },
  {
   "cell_type": "code",
   "execution_count": 11,
   "id": "fd5f61f8-c415-4de3-89c2-9e53e99d3ffd",
   "metadata": {
    "execution": {
     "iopub.execute_input": "2025-04-11T02:15:48.283742Z",
     "iopub.status.busy": "2025-04-11T02:15:48.283587Z",
     "iopub.status.idle": "2025-04-11T02:15:48.286765Z",
     "shell.execute_reply": "2025-04-11T02:15:48.286460Z",
     "shell.execute_reply.started": "2025-04-11T02:15:48.283730Z"
    }
   },
   "outputs": [
    {
     "data": {
      "text/plain": [
       "0"
      ]
     },
     "execution_count": 11,
     "metadata": {},
     "output_type": "execute_result"
    }
   ],
   "source": [
    "# add a report\n",
    "report = doc.createReport()\n",
    "report.setId(\"report_tnf\")\n",
    "report.setName(\"report_tnf.csv\")\n",
    "set = report.createDataSet()\n",
    "set.setId(\"ds1\")\n",
    "set.setLabel(\"time\")\n",
    "set.setDataReference(\"data_time_tnf\")\n",
    "set = report.createDataSet()\n",
    "set.setId(\"ds2\")\n",
    "set.setLabel(\"Survival\")\n",
    "set.setDataReference(\"data_survival_tnf\")\n",
    "set = report.createDataSet()\n",
    "set.setId(\"ds3\")\n",
    "set.setLabel(\"NonACD\")\n",
    "set.setDataReference(\"data_nonacd_tnf\")\n",
    "set = report.createDataSet()\n",
    "set.setId(\"ds4\")\n",
    "set.setLabel(\"Apoptosis\")\n",
    "set.setDataReference(\"data_apoptosis_tnf\")"
   ]
  },
  {
   "cell_type": "code",
   "execution_count": 12,
   "id": "f9f1d01c-7be7-4dc9-8d7b-9ab257cb7611",
   "metadata": {
    "execution": {
     "iopub.execute_input": "2025-04-11T02:15:48.287154Z",
     "iopub.status.busy": "2025-04-11T02:15:48.287065Z",
     "iopub.status.idle": "2025-04-11T02:15:48.289567Z",
     "shell.execute_reply": "2025-04-11T02:15:48.289282Z",
     "shell.execute_reply.started": "2025-04-11T02:15:48.287145Z"
    }
   },
   "outputs": [],
   "source": [
    "# add a report\n",
    "report = doc.createReport()\n",
    "report.setId(\"report_states_tnf\")\n",
    "report.setName(\"report_states_tnf.csv\")\n",
    "set = report.createDataSet()\n",
    "set.setId(\"states_time\")\n",
    "set.setLabel(\"time\")\n",
    "set.setDataReference(\"data_time_tnf\")\n",
    "\n",
    "for name, t_variables in states.items():\n",
    "\n",
    "    if len(t_variables) > 0:\n",
    "        dg_id = \"dg_\" + (\"_\".join([t_var.lower() for t_var in t_variables]))\n",
    "    else:\n",
    "        dg_id = \"dg_nil\"\n",
    "    ds = report.createDataSet()\n",
    "    ds.setId(\"ds_\" + dg_id)\n",
    "    ds.setLabel(name)\n",
    "    ds.setDataReference(dg_id)\n"
   ]
  },
  {
   "cell_type": "code",
   "execution_count": 13,
   "id": "66fc7390-8986-4455-a43b-ebc66b2ca188",
   "metadata": {
    "execution": {
     "iopub.execute_input": "2025-04-11T02:15:48.289906Z",
     "iopub.status.busy": "2025-04-11T02:15:48.289815Z",
     "iopub.status.idle": "2025-04-11T02:15:48.293241Z",
     "shell.execute_reply": "2025-04-11T02:15:48.292926Z",
     "shell.execute_reply.started": "2025-04-11T02:15:48.289898Z"
    }
   },
   "outputs": [
    {
     "data": {
      "text/plain": [
       "0"
      ]
     },
     "execution_count": 13,
     "metadata": {},
     "output_type": "execute_result"
    }
   ],
   "source": [
    "matplotlib_colors = ['#1f77b4', '#ff7f0e', '#2ca02c', '#d62728', '#9467bd', '#8c564b', '#e377c2', '#7f7f7f', '#bcbd22', '#17becf']\n",
    "for i, color in enumerate(matplotlib_colors):\n",
    "    style = doc.createStyle()\n",
    "    style.setId(\"C%d\" % i)\n",
    "    line = style.createLineStyle()\n",
    "    line.setColor(color)\n",
    "\n",
    "style = doc.createStyle()\n",
    "style.setId('line_green')\n",
    "line = style.createLineStyle()\n",
    "# line.setStyle('solid')\n",
    "line.setColor('#2ca02cff')\n",
    "\n",
    "style = doc.createStyle()\n",
    "style.setId('line_red')\n",
    "line = style.createLineStyle()\n",
    "# line.setStyle('solid')\n",
    "line.setColor('#d62728ff')\n",
    "\n",
    "style = doc.createStyle()\n",
    "style.setId('line_purple')\n",
    "line = style.createLineStyle()\n",
    "# line.setStyle('solid')\n",
    "line.setColor('#9467bdff')"
   ]
  },
  {
   "cell_type": "code",
   "execution_count": 14,
   "id": "be242ea0-a8ac-440b-aed0-a77a0560b0d9",
   "metadata": {
    "execution": {
     "iopub.execute_input": "2025-04-11T02:15:48.293616Z",
     "iopub.status.busy": "2025-04-11T02:15:48.293526Z",
     "iopub.status.idle": "2025-04-11T02:15:48.297284Z",
     "shell.execute_reply": "2025-04-11T02:15:48.296937Z",
     "shell.execute_reply.started": "2025-04-11T02:15:48.293607Z"
    }
   },
   "outputs": [
    {
     "data": {
      "text/plain": [
       "0"
      ]
     },
     "execution_count": 14,
     "metadata": {},
     "output_type": "execute_result"
    }
   ],
   "source": [
    "plot = doc.createPlot2D()\n",
    "plot.setId('plot_trajectories_tnf')\n",
    "plot.setLegend(True)\n",
    "\n",
    "curve = plot.createCurve()\n",
    "curve.setId('curve_survival_tnf')\n",
    "curve.setName('Survival')\n",
    "curve.setOrder(0)\n",
    "curve.setXDataReference('data_time_tnf')\n",
    "curve.setYDataReference('data_survival_tnf')\n",
    "curve.setStyle('line_purple')\n",
    "\n",
    "curve = plot.createCurve()\n",
    "curve.setId('curve_apoptosis_tnf')\n",
    "curve.setName('Apoptosis')\n",
    "curve.setOrder(0)\n",
    "curve.setXDataReference('data_time_tnf')\n",
    "curve.setYDataReference('data_apoptosis_tnf')\n",
    "curve.setStyle('line_green')\n",
    "\n",
    "curve = plot.createCurve()\n",
    "curve.setId('curve_nonacd_tnf')\n",
    "curve.setName('NonACD')\n",
    "curve.setOrder(0)\n",
    "curve.setXDataReference('data_time_tnf')\n",
    "curve.setYDataReference('data_nonacd_tnf')\n",
    "curve.setStyle('line_red')"
   ]
  },
  {
   "cell_type": "code",
   "execution_count": 15,
   "id": "b5537e43-f524-4971-b9a0-7ef0d7bfb0c1",
   "metadata": {
    "execution": {
     "iopub.execute_input": "2025-04-11T02:15:48.297742Z",
     "iopub.status.busy": "2025-04-11T02:15:48.297635Z",
     "iopub.status.idle": "2025-04-11T02:15:48.300395Z",
     "shell.execute_reply": "2025-04-11T02:15:48.300024Z",
     "shell.execute_reply.started": "2025-04-11T02:15:48.297732Z"
    }
   },
   "outputs": [],
   "source": [
    "plot = doc.createPlot2D()\n",
    "plot.setId('plot_states_trajectories_tnf')\n",
    "plot.setLegend(True)\n",
    "\n",
    "for i, (name, t_variables) in enumerate(states.items()):\n",
    "    if len(t_variables) > 0:\n",
    "        dg_id = \"dg_\" + (\"_\".join([t_var.lower() for t_var in t_variables]))\n",
    "    else:\n",
    "        dg_id = \"dg_nil\"\n",
    "    curve = plot.createCurve()\n",
    "    curve.setId('curve_' + dg_id)\n",
    "    curve.setName(name if name != \"nil\" else \"<nil>\")\n",
    "    curve.setOrder(i)\n",
    "    curve.setXDataReference('data_time_tnf')\n",
    "    curve.setYDataReference(dg_id)\n",
    "    curve.setStyle(\"C%d\" % i)"
   ]
  },
  {
   "cell_type": "code",
   "execution_count": 16,
   "id": "c2175d0f-7285-4a74-88e9-6ac03beee839",
   "metadata": {
    "execution": {
     "iopub.execute_input": "2025-04-11T02:15:48.300836Z",
     "iopub.status.busy": "2025-04-11T02:15:48.300736Z",
     "iopub.status.idle": "2025-04-11T02:15:48.304414Z",
     "shell.execute_reply": "2025-04-11T02:15:48.304002Z",
     "shell.execute_reply.started": "2025-04-11T02:15:48.300826Z"
    }
   },
   "outputs": [
    {
     "data": {
      "text/plain": [
       "True"
      ]
     },
     "execution_count": 16,
     "metadata": {},
     "output_type": "execute_result"
    }
   ],
   "source": [
    "writer = libsedml.SedWriter()\n",
    "writer.writeSedMLToFile(doc, \"cell_fate_states.sedml\")"
   ]
  },
  {
   "cell_type": "code",
   "execution_count": null,
   "id": "6619ca86-2115-4d19-b5fd-3e4cd7dbc9a3",
   "metadata": {},
   "outputs": [],
   "source": []
  },
  {
   "cell_type": "code",
   "execution_count": null,
   "id": "3599a500-c2d2-4426-8803-715a1b97196a",
   "metadata": {},
   "outputs": [],
   "source": []
  },
  {
   "cell_type": "code",
   "execution_count": null,
   "id": "774cdafb-1e66-4ef0-b553-2dc76f1bcb53",
   "metadata": {},
   "outputs": [],
   "source": []
  }
 ],
 "metadata": {
  "kernelspec": {
   "display_name": "Python 3 (ipykernel)",
   "language": "python",
   "name": "python3"
  },
  "language_info": {
   "codemirror_mode": {
    "name": "ipython",
    "version": 3
   },
   "file_extension": ".py",
   "mimetype": "text/x-python",
   "name": "python",
   "nbconvert_exporter": "python",
   "pygments_lexer": "ipython3",
   "version": "3.12.5"
  }
 },
 "nbformat": 4,
 "nbformat_minor": 5
}
