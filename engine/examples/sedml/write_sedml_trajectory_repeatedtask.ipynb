{
 "cells": [
  {
   "cell_type": "code",
   "execution_count": 1,
   "id": "03e918dd-6b72-4e2f-83fc-31f5a282d536",
   "metadata": {
    "execution": {
     "iopub.execute_input": "2025-04-11T02:09:28.587299Z",
     "iopub.status.busy": "2025-04-11T02:09:28.586973Z",
     "iopub.status.idle": "2025-04-11T02:09:28.705141Z",
     "shell.execute_reply": "2025-04-11T02:09:28.704792Z",
     "shell.execute_reply.started": "2025-04-11T02:09:28.587282Z"
    }
   },
   "outputs": [],
   "source": [
    "import libsedml, libsbml"
   ]
  },
  {
   "cell_type": "code",
   "execution_count": 2,
   "id": "79a99e94-35b9-41cb-9068-e0a033aef28b",
   "metadata": {
    "execution": {
     "iopub.execute_input": "2025-04-11T02:09:28.705569Z",
     "iopub.status.busy": "2025-04-11T02:09:28.705473Z",
     "iopub.status.idle": "2025-04-11T02:09:28.709097Z",
     "shell.execute_reply": "2025-04-11T02:09:28.708901Z",
     "shell.execute_reply.started": "2025-04-11T02:09:28.705558Z"
    }
   },
   "outputs": [
    {
     "data": {
      "text/plain": [
       "0"
      ]
     },
     "execution_count": 2,
     "metadata": {},
     "output_type": "execute_result"
    }
   ],
   "source": [
    "doc = libsedml.SedDocument()\n",
    "doc.setLevel(1)\n",
    "doc.setVersion(5)"
   ]
  },
  {
   "cell_type": "code",
   "execution_count": 3,
   "id": "74f39bbe-aa0a-43c9-a86a-6a1da89911b9",
   "metadata": {
    "execution": {
     "iopub.execute_input": "2025-04-11T02:09:28.709451Z",
     "iopub.status.busy": "2025-04-11T02:09:28.709356Z",
     "iopub.status.idle": "2025-04-11T02:09:28.724982Z",
     "shell.execute_reply": "2025-04-11T02:09:28.724627Z",
     "shell.execute_reply.started": "2025-04-11T02:09:28.709442Z"
    }
   },
   "outputs": [
    {
     "data": {
      "text/plain": [
       "0"
      ]
     },
     "execution_count": 3,
     "metadata": {},
     "output_type": "execute_result"
    }
   ],
   "source": [
    "model_wt = doc.createModel()\n",
    "model_wt.setId(\"model_wt\")\n",
    "model_wt.setSource(\"cell_fate.sbml\")\n",
    "model_wt.setLanguage(\"urn:sedml:language:sbml\")"
   ]
  },
  {
   "cell_type": "code",
   "execution_count": 4,
   "id": "f29a72b2-6547-4d5b-8d94-592230132cfa",
   "metadata": {
    "execution": {
     "iopub.execute_input": "2025-04-11T02:09:28.725397Z",
     "iopub.status.busy": "2025-04-11T02:09:28.725301Z",
     "iopub.status.idle": "2025-04-11T02:09:28.727695Z",
     "shell.execute_reply": "2025-04-11T02:09:28.727478Z",
     "shell.execute_reply.started": "2025-04-11T02:09:28.725389Z"
    }
   },
   "outputs": [
    {
     "data": {
      "text/plain": [
       "0"
      ]
     },
     "execution_count": 4,
     "metadata": {},
     "output_type": "execute_result"
    }
   ],
   "source": [
    "simulation = doc.createUniformTimeCourse()\n",
    "simulation.setId(\"simulation\")\n",
    "simulation.setInitialTime(0.0)\n",
    "simulation.setOutputStartTime(0.0)\n",
    "simulation.setOutputEndTime(100.0)\n",
    "simulation.setNumberOfSteps(1000)"
   ]
  },
  {
   "cell_type": "code",
   "execution_count": 5,
   "id": "660770b9-0528-4ae7-ac8e-f2d6cb1ea11d",
   "metadata": {
    "execution": {
     "iopub.execute_input": "2025-04-11T02:09:28.728031Z",
     "iopub.status.busy": "2025-04-11T02:09:28.727947Z",
     "iopub.status.idle": "2025-04-11T02:09:28.730712Z",
     "shell.execute_reply": "2025-04-11T02:09:28.730224Z",
     "shell.execute_reply.started": "2025-04-11T02:09:28.728023Z"
    }
   },
   "outputs": [
    {
     "data": {
      "text/plain": [
       "0"
      ]
     },
     "execution_count": 5,
     "metadata": {},
     "output_type": "execute_result"
    }
   ],
   "source": [
    "algo = simulation.createAlgorithm()\n",
    "algo.setId(\"algo\")\n",
    "algo.setKisaoID(\"KISAO:0000581\")\n",
    "\n",
    "# thread_count\n",
    "param = algo.createAlgorithmParameter()\n",
    "param.setKisaoID(\"KISAO:0000529\")\n",
    "param.setValue(\"8\")\n",
    "\n",
    "# sample_count\n",
    "param = algo.createAlgorithmParameter()\n",
    "param.setKisaoID(\"KISAO:0000498\")\n",
    "param.setValue(\"10000\")\n",
    "\n",
    "# seed\n",
    "param = algo.createAlgorithmParameter()\n",
    "param.setKisaoID(\"KISAO:0000488\")\n",
    "param.setValue(\"100\")"
   ]
  },
  {
   "cell_type": "code",
   "execution_count": 6,
   "id": "00f4cca5-d68f-48e6-bc70-c478e396e45e",
   "metadata": {
    "execution": {
     "iopub.execute_input": "2025-04-11T02:09:28.731536Z",
     "iopub.status.busy": "2025-04-11T02:09:28.731440Z",
     "iopub.status.idle": "2025-04-11T02:09:28.734465Z",
     "shell.execute_reply": "2025-04-11T02:09:28.733486Z",
     "shell.execute_reply.started": "2025-04-11T02:09:28.731527Z"
    }
   },
   "outputs": [
    {
     "data": {
      "text/plain": [
       "0"
      ]
     },
     "execution_count": 6,
     "metadata": {},
     "output_type": "execute_result"
    }
   ],
   "source": [
    "task_wt = doc.createTask()\n",
    "task_wt.setId(\"task_wt\")\n",
    "task_wt.setModelReference(\"model_wt\")\n",
    "task_wt.setSimulationReference(\"simulation\")"
   ]
  },
  {
   "cell_type": "code",
   "execution_count": 7,
   "id": "0d809e4c-c155-46da-afcc-4626b6f9684d",
   "metadata": {
    "execution": {
     "iopub.execute_input": "2025-04-11T02:09:28.734779Z",
     "iopub.status.busy": "2025-04-11T02:09:28.734694Z",
     "iopub.status.idle": "2025-04-11T02:09:28.737017Z",
     "shell.execute_reply": "2025-04-11T02:09:28.736811Z",
     "shell.execute_reply.started": "2025-04-11T02:09:28.734771Z"
    }
   },
   "outputs": [],
   "source": [
    "repeated_task_wt = doc.createRepeatedTask()\n",
    "repeated_task_wt.setId(\"repeated_task_wt\")\n",
    "subtask = repeated_task_wt.createSubTask()\n",
    "subtask.setTask(\"task_wt\")\n",
    "uniform_range = repeated_task_wt.createUniformRange()\n",
    "uniform_range.setId(\"uniform_range\")\n",
    "uniform_range.setStart(1)\n",
    "uniform_range.setEnd(10000)\n",
    "uniform_range.setNumberOfSteps(10000)\n",
    "\n",
    "initial_values = {\"TNF\": 0.3, \"FADD\": 0.5, \"FASL\": 0.7}\n",
    "for node, initial_value in initial_values.items():\n",
    "    rand_math = libsedml.parseL3Formula(\"uniform(0,1) < %f\" % initial_value)\n",
    "    initial_level_change = repeated_task_wt.createTaskChange()\n",
    "    initial_level_change.setModelReference(\"model_wt\")\n",
    "    initial_level_change.setTarget(\"/sbml:sbml/sbml:model/qual:listOfQualitativeSpecies/qual:qualitativeSpecies[@qual:id='%s']/@qual:initialLevel\" % node)\n",
    "    initial_level_change.setMath(rand_math)"
   ]
  },
  {
   "cell_type": "code",
   "execution_count": 8,
   "id": "334e37b1-a365-464e-aed0-b3c4215bb66d",
   "metadata": {
    "execution": {
     "iopub.execute_input": "2025-04-11T02:09:28.737394Z",
     "iopub.status.busy": "2025-04-11T02:09:28.737303Z",
     "iopub.status.idle": "2025-04-11T02:09:28.744373Z",
     "shell.execute_reply": "2025-04-11T02:09:28.743974Z",
     "shell.execute_reply.started": "2025-04-11T02:09:28.737386Z"
    }
   },
   "outputs": [
    {
     "data": {
      "text/plain": [
       "0"
      ]
     },
     "execution_count": 8,
     "metadata": {},
     "output_type": "execute_result"
    }
   ],
   "source": [
    "time = doc.createDataGenerator()\n",
    "time.setId(\"data_time_wt\")\n",
    "time.setName(\"time\")\n",
    "var_time = time.createVariable()\n",
    "var_time.setId(\"t\")\n",
    "var_time.setName(\"time\")\n",
    "var_time.setTaskReference(\"repeated_task_wt\")\n",
    "var_time.setSymbol(\"urn:sedml:symbol:time\")\n",
    "var_time.setDimensionTerm(\"KISAO:0000825\")\n",
    "ad = var_time.createAppliedDimension()\n",
    "ad.setDimensionTarget(\"repeated_task_wt\")\n",
    "time.setMath(libsedml.parseFormula(\"t\"))\n",
    "\n",
    "# and one for S1\n",
    "survival = doc.createDataGenerator()\n",
    "survival.setId(\"data_survival_wt\")\n",
    "survival.setName(\"Survival\")\n",
    "var_survival = survival.createVariable()\n",
    "var_survival.setId(\"Survival\")\n",
    "var_survival.setName(\"Survival\")\n",
    "var_survival.setTaskReference(\"repeated_task_wt\")\n",
    "var_survival.setTarget(\"/sbml:sbml/sbml:model/qual:listOfQualitativeSpecies/qual:qualitativeSpecies[@qual:id='Survival']\")\n",
    "var_survival.setDimensionTerm(\"KISAO:0000825\")\n",
    "ad = var_survival.createAppliedDimension()\n",
    "ad.setTarget(\"repeated_task_wt\")\n",
    "survival.setMath(libsedml.parseFormula(\"Survival\"))\n",
    "\n",
    "nonacd = doc.createDataGenerator()\n",
    "nonacd.setId(\"data_nonacd_wt\")\n",
    "nonacd.setName(\"NonACD\")\n",
    "var_nonacd = nonacd.createVariable()\n",
    "var_nonacd.setId(\"NonACD\")\n",
    "var_nonacd.setName(\"NonACD\")\n",
    "var_nonacd.setTaskReference(\"repeated_task_wt\")\n",
    "var_nonacd.setTarget(\"/sbml:sbml/sbml:model/qual:listOfQualitativeSpecies/qual:qualitativeSpecies[@qual:id='NonACD']\")\n",
    "var_nonacd.setDimensionTerm(\"KISAO:0000825\")\n",
    "ad = var_nonacd.createAppliedDimension()\n",
    "ad.setTarget(\"repeated_task_wt\")\n",
    "nonacd.setMath(libsedml.parseFormula(\"NonACD\"))\n",
    "\n",
    "apoptosis = doc.createDataGenerator()\n",
    "apoptosis.setId(\"data_apoptosis_wt\")\n",
    "apoptosis.setName(\"Apoptosis\")\n",
    "var_apoptosis = apoptosis.createVariable()\n",
    "var_apoptosis.setId(\"Apoptosis\")\n",
    "var_apoptosis.setName(\"Apoptosis\")\n",
    "var_apoptosis.setTaskReference(\"repeated_task_wt\")\n",
    "var_apoptosis.setTarget(\"/sbml:sbml/sbml:model/qual:listOfQualitativeSpecies/qual:qualitativeSpecies[@qual:id='Apoptosis']\")\n",
    "var_apoptosis.setDimensionTerm(\"KISAO:0000825\")\n",
    "ad = var_apoptosis.createAppliedDimension()\n",
    "ad.setTarget(\"repeated_task_wt\")\n",
    "apoptosis.setMath(libsedml.parseFormula(\"Apoptosis\"))\n",
    "\n",
    "tnf = doc.createDataGenerator()\n",
    "tnf.setId(\"data_tnf_wt\")\n",
    "tnf.setName(\"TNF\")\n",
    "var_tnf = tnf.createVariable()\n",
    "var_tnf.setId(\"TNF\")\n",
    "var_tnf.setName(\"TNF\")\n",
    "var_tnf.setTaskReference(\"repeated_task_wt\")\n",
    "var_tnf.setTarget(\"/sbml:sbml/sbml:model/qual:listOfQualitativeSpecies/qual:qualitativeSpecies[@qual:id='TNF']\")\n",
    "var_tnf.setDimensionTerm(\"KISAO:0000825\")\n",
    "ad = var_tnf.createAppliedDimension()\n",
    "ad.setTarget(\"repeated_task_wt\")\n",
    "tnf.setMath(libsedml.parseFormula(\"TNF\"))\n",
    "\n",
    "fadd = doc.createDataGenerator()\n",
    "fadd.setId(\"data_fadd_wt\")\n",
    "fadd.setName(\"FADD\")\n",
    "var_fadd = fadd.createVariable()\n",
    "var_fadd.setId(\"FADD\")\n",
    "var_fadd.setName(\"FADD\")\n",
    "var_fadd.setTaskReference(\"repeated_task_wt\")\n",
    "var_fadd.setTarget(\"/sbml:sbml/sbml:model/qual:listOfQualitativeSpecies/qual:qualitativeSpecies[@qual:id='FADD']\")\n",
    "var_fadd.setDimensionTerm(\"KISAO:0000825\")\n",
    "ad = var_fadd.createAppliedDimension()\n",
    "ad.setTarget(\"repeated_task_wt\")\n",
    "fadd.setMath(libsedml.parseFormula(\"FADD\"))\n",
    "\n",
    "fasl = doc.createDataGenerator()\n",
    "fasl.setId(\"data_fasl_wt\")\n",
    "fasl.setName(\"FASL\")\n",
    "var_fasl = fasl.createVariable()\n",
    "var_fasl.setId(\"FASL\")\n",
    "var_fasl.setName(\"FASL\")\n",
    "var_fasl.setTaskReference(\"repeated_task_wt\")\n",
    "var_fasl.setTarget(\"/sbml:sbml/sbml:model/qual:listOfQualitativeSpecies/qual:qualitativeSpecies[@qual:id='FASL']\")\n",
    "var_fasl.setDimensionTerm(\"KISAO:0000825\")\n",
    "ad = var_fasl.createAppliedDimension()\n",
    "ad.setTarget(\"repeated_task_wt\")\n",
    "fasl.setMath(libsedml.parseFormula(\"FASL\"))"
   ]
  },
  {
   "cell_type": "code",
   "execution_count": 9,
   "id": "4cb3ca17-5ca4-44f4-aed1-d8508ff22189",
   "metadata": {
    "execution": {
     "iopub.execute_input": "2025-04-11T02:09:28.745185Z",
     "iopub.status.busy": "2025-04-11T02:09:28.744788Z",
     "iopub.status.idle": "2025-04-11T02:09:28.748998Z",
     "shell.execute_reply": "2025-04-11T02:09:28.748520Z",
     "shell.execute_reply.started": "2025-04-11T02:09:28.745169Z"
    }
   },
   "outputs": [
    {
     "data": {
      "text/plain": [
       "0"
      ]
     },
     "execution_count": 9,
     "metadata": {},
     "output_type": "execute_result"
    }
   ],
   "source": [
    "# add a report\n",
    "report = doc.createReport()\n",
    "report.setId(\"report_wt\")\n",
    "report.setName(\"report_wt.csv\")\n",
    "set = report.createDataSet()\n",
    "set.setId(\"ds1\")\n",
    "set.setLabel(\"time\")\n",
    "set.setDataReference(\"data_time_wt\")\n",
    "set = report.createDataSet()\n",
    "set.setId(\"ds2\")\n",
    "set.setLabel(\"Survival\")\n",
    "set.setDataReference(\"data_survival_wt\")\n",
    "set = report.createDataSet()\n",
    "set.setId(\"ds3\")\n",
    "set.setLabel(\"NonACD\")\n",
    "set.setDataReference(\"data_nonacd_wt\")\n",
    "set = report.createDataSet()\n",
    "set.setId(\"ds4\")\n",
    "set.setLabel(\"Apoptosis\")\n",
    "set.setDataReference(\"data_apoptosis_wt\")\n",
    "set = report.createDataSet()\n",
    "set.setId(\"ds5\")\n",
    "set.setLabel(\"TNF\")\n",
    "set.setDataReference(\"data_tnf_wt\")\n",
    "set = report.createDataSet()\n",
    "set.setId(\"ds6\")\n",
    "set.setLabel(\"FADD\")\n",
    "set.setDataReference(\"data_fadd_wt\")\n",
    "set = report.createDataSet()\n",
    "set.setId(\"ds7\")\n",
    "set.setLabel(\"FASL\")\n",
    "set.setDataReference(\"data_fasl_wt\")"
   ]
  },
  {
   "cell_type": "code",
   "execution_count": 10,
   "id": "4bbd1a5e-3b23-4e3a-9f5c-86b156b6aff9",
   "metadata": {
    "execution": {
     "iopub.execute_input": "2025-04-11T02:09:28.749345Z",
     "iopub.status.busy": "2025-04-11T02:09:28.749255Z",
     "iopub.status.idle": "2025-04-11T02:09:28.751908Z",
     "shell.execute_reply": "2025-04-11T02:09:28.751617Z",
     "shell.execute_reply.started": "2025-04-11T02:09:28.749337Z"
    }
   },
   "outputs": [
    {
     "data": {
      "text/plain": [
       "0"
      ]
     },
     "execution_count": 10,
     "metadata": {},
     "output_type": "execute_result"
    }
   ],
   "source": [
    "style = doc.createStyle()\n",
    "style.setId('line_green')\n",
    "line = style.createLineStyle()\n",
    "# line.setStyle('solid')\n",
    "line.setColor('#2ca02cff')\n",
    "\n",
    "style = doc.createStyle()\n",
    "style.setId('line_red')\n",
    "line = style.createLineStyle()\n",
    "# line.setStyle('solid')\n",
    "line.setColor('#d62728ff')\n",
    "\n",
    "style = doc.createStyle()\n",
    "style.setId('line_purple')\n",
    "line = style.createLineStyle()\n",
    "# line.setStyle('solid')\n",
    "line.setColor('#9467bdff')"
   ]
  },
  {
   "cell_type": "code",
   "execution_count": 11,
   "id": "fc132c30-403a-4b20-84d9-1b8fb9ed5215",
   "metadata": {
    "execution": {
     "iopub.execute_input": "2025-04-11T02:09:28.752304Z",
     "iopub.status.busy": "2025-04-11T02:09:28.752205Z",
     "iopub.status.idle": "2025-04-11T02:09:28.755324Z",
     "shell.execute_reply": "2025-04-11T02:09:28.754983Z",
     "shell.execute_reply.started": "2025-04-11T02:09:28.752295Z"
    }
   },
   "outputs": [
    {
     "data": {
      "text/plain": [
       "0"
      ]
     },
     "execution_count": 11,
     "metadata": {},
     "output_type": "execute_result"
    }
   ],
   "source": [
    "plot = doc.createPlot2D()\n",
    "plot.setId('plot_trajectories_wt')\n",
    "plot.setLegend(True)\n",
    "\n",
    "curve = plot.createCurve()\n",
    "curve.setId('curve_survival_wt')\n",
    "curve.setName('Survival')\n",
    "curve.setOrder(0)\n",
    "curve.setXDataReference('data_time_wt')\n",
    "curve.setYDataReference('data_survival_wt')\n",
    "curve.setStyle('line_purple')\n",
    "\n",
    "curve = plot.createCurve()\n",
    "curve.setId('curve_apoptosis_wt')\n",
    "curve.setName('Apoptosis')\n",
    "curve.setOrder(1)\n",
    "curve.setXDataReference('data_time_wt')\n",
    "curve.setYDataReference('data_apoptosis_wt')\n",
    "curve.setStyle('line_green')\n",
    "\n",
    "curve = plot.createCurve()\n",
    "curve.setId('curve_nonacd_wt')\n",
    "curve.setName('NonACD')\n",
    "curve.setOrder(2)\n",
    "curve.setXDataReference('data_time_wt')\n",
    "curve.setYDataReference('data_nonacd_wt')\n",
    "curve.setStyle('line_red')"
   ]
  },
  {
   "cell_type": "code",
   "execution_count": null,
   "id": "dcbcc5ac-63dd-4851-be5b-229e138383f7",
   "metadata": {},
   "outputs": [],
   "source": []
  },
  {
   "cell_type": "code",
   "execution_count": 12,
   "id": "c2175d0f-7285-4a74-88e9-6ac03beee839",
   "metadata": {
    "execution": {
     "iopub.execute_input": "2025-04-11T02:09:28.755750Z",
     "iopub.status.busy": "2025-04-11T02:09:28.755639Z",
     "iopub.status.idle": "2025-04-11T02:09:28.758811Z",
     "shell.execute_reply": "2025-04-11T02:09:28.758478Z",
     "shell.execute_reply.started": "2025-04-11T02:09:28.755739Z"
    }
   },
   "outputs": [
    {
     "data": {
      "text/plain": [
       "True"
      ]
     },
     "execution_count": 12,
     "metadata": {},
     "output_type": "execute_result"
    }
   ],
   "source": [
    "writer = libsedml.SedWriter()\n",
    "writer.writeSedMLToFile(doc, \"cell_fate_repeated_task.sedml\")"
   ]
  },
  {
   "cell_type": "code",
   "execution_count": null,
   "id": "9a7a009e-5b6c-421b-a463-94773c4ad421",
   "metadata": {},
   "outputs": [],
   "source": []
  }
 ],
 "metadata": {
  "kernelspec": {
   "display_name": "Python 3 (ipykernel)",
   "language": "python",
   "name": "python3"
  },
  "language_info": {
   "codemirror_mode": {
    "name": "ipython",
    "version": 3
   },
   "file_extension": ".py",
   "mimetype": "text/x-python",
   "name": "python",
   "nbconvert_exporter": "python",
   "pygments_lexer": "ipython3",
   "version": "3.12.5"
  }
 },
 "nbformat": 4,
 "nbformat_minor": 5
}
